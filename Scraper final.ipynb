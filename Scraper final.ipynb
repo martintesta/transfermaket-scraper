{
 "cells": [
  {
   "cell_type": "code",
   "execution_count": 101,
   "metadata": {},
   "outputs": [
    {
     "name": "stdout",
     "output_type": "stream",
     "text": [
      "Getting data for year 2012..\n",
      "Getting data for year 2013..\n",
      "Getting data for year 2014..\n",
      "Getting data for year 2015..\n",
      "Getting data for year 2016..\n",
      "Getting data for year 2017..\n",
      "Getting data for year 2018..\n",
      "Getting data for year 2019..\n"
     ]
    }
   ],
   "source": [
    "import requests\n",
    "import pandas as pd\n",
    "from bs4 import BeautifulSoup\n",
    " \n",
    "\n",
    "headers = {'User-Agent': 'Mozilla/5.0 (X11; Ubuntu; Linux x86_64; rv:78.0) Gecko/20100101 Firefox/78.0'}\n",
    "\n",
    "all_data = []\n",
    "for year in range(2012, 2020):\n",
    "    print('Getting data for year {}..'.format(year))\n",
    "\n",
    "    url = 'https://www.transfermarkt.es/esporte-clube-vitoria/kader/verein/2125/plus/1/galerie/0?saison_id=' + str(year)\n",
    "    soup = BeautifulSoup(requests.get(url, headers=headers).content, 'html.parser')\n",
    "\n",
    "    th = soup.select('.items th')\n",
    "    if len(th) == 11:\n",
    "        for td in soup.select('.items > tbody > tr > td:nth-child(5)'):\n",
    "            td.extract()\n",
    "\n",
    "    for tr in soup.select('.items > tbody > tr:has(td)'):\n",
    "        name = tr.select_one('a[id]').get_text(strip=True)\n",
    "        field_position = tr.select_one('table > tr:nth-child(2)').text\n",
    "\n",
    "        dob = tr.select_one('td:nth-child(3)').text[12:14]\n",
    "        height = tr.select_one('td:nth-child(5)').text\n",
    "        foot = tr.select_one('td:nth-child(6)').text\n",
    "        mv = tr.select_one('td:nth-child(10)').text\n",
    "\n",
    "        all_data.append({\n",
    "            'Name': name,\n",
    "            'Field Position': field_position,\n",
    "            'Height': height,\n",
    "            'Date of Birth': dob,\n",
    "            'Foot': foot,\n",
    "            'Market Value': mv,\n",
    "            'Year': year\n",
    "        })\n",
    "\n",
    "df_VITORIA = pd.DataFrame(all_data)"
   ]
  },
  {
   "cell_type": "code",
   "execution_count": 102,
   "metadata": {},
   "outputs": [
    {
     "name": "stdout",
     "output_type": "stream",
     "text": [
      "                   Name    Field Position  Height Date of Birth       Foot  \\\n",
      "0                Wilson           Portero  1,85 m            28    derecho   \n",
      "1                 Deola           Portero  1,88 m            29    derecho   \n",
      "2               Gustavo           Portero  1,86 m            19    derecho   \n",
      "3       Fernando Miguel           Portero  1,91 m            27  izquierdo   \n",
      "4    Guillermo Viscarra           Portero  1,91 m            19    derecho   \n",
      "..                  ...               ...     ...           ...        ...   \n",
      "411           Léo Ceará        Mediapunta  1,78 m            25    derecho   \n",
      "412       Jordy Caicedo  Delantero centro  1,85 m            22          -   \n",
      "413       Júnior Viçosa  Delantero centro  1,82 m            30    derecho   \n",
      "414                Eron  Delantero centro  1,80 m            22    derecho   \n",
      "415       Rodrigo Porto  Delantero centro  1,79 m            21          -   \n",
      "\n",
      "      Market Value  Year  \n",
      "0    500 miles €    2012  \n",
      "1    500 miles €    2012  \n",
      "2    100 miles €    2012  \n",
      "3               -   2012  \n",
      "4               -   2012  \n",
      "..             ...   ...  \n",
      "411             -   2019  \n",
      "412  675 miles €    2019  \n",
      "413  650 miles €    2019  \n",
      "414  150 miles €    2019  \n",
      "415             -   2019  \n",
      "\n",
      "[416 rows x 7 columns]\n"
     ]
    }
   ],
   "source": [
    "print(df_VITORIA)"
   ]
  },
  {
   "cell_type": "code",
   "execution_count": 103,
   "metadata": {},
   "outputs": [],
   "source": [
    "df_VITORIA.to_csv('data_VITORIA.csv')"
   ]
  }
 ],
 "metadata": {
  "kernelspec": {
   "display_name": "Python 3",
   "language": "python",
   "name": "python3"
  },
  "language_info": {
   "codemirror_mode": {
    "name": "ipython",
    "version": 3
   },
   "file_extension": ".py",
   "mimetype": "text/x-python",
   "name": "python",
   "nbconvert_exporter": "python",
   "pygments_lexer": "ipython3",
   "version": "3.7.6"
  }
 },
 "nbformat": 4,
 "nbformat_minor": 4
}
